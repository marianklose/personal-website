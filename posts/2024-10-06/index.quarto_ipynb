{
  "cells": [
    {
      "cell_type": "markdown",
      "metadata": {},
      "source": [
        "---\n",
        "title: \"Coding RUV as THETA in NONMEM\"\n",
        "description: \"Have you ever been confused why some people use the $THETA block to code their RUV in NONMEM? You are not alone!\"\n",
        "author:\n",
        "  - name: Marian Klose\n",
        "    url: https://github.com/marianklose\n",
        "    orcid: 0009-0005-1706-6289\n",
        "date: 10-06-2024\n",
        "categories: [RUV, Error, NONMEM] \n",
        "image: preview.jpg\n",
        "draft: false \n",
        "---\n",
        "\n",
        "\n",
        "When I've started my PhD in pharmacometrics, a colleague of mine sent me a reference model which contained a different way of writing the residual unexplained variability (RUV) in NONMEM. So far, I was always modelling the RUV in the _classical_ way (if you can call it like this) and I have also never thought about another way of doing so. The most straightforward way to model it would be to directly specify the variance of the respective error part in the $ERROR block:\n",
        "\n",
        "\n",
        "```{nonmem}\n",
        "$ERROR\n",
        "Y = F + EPS(1)\n",
        "\n",
        "$SIGMA\n",
        "0.23\n",
        "``` "
      ],
      "id": "f7e2ad14"
    }
  ],
  "metadata": {
    "kernelspec": {
      "display_name": "Python 3",
      "language": "python",
      "name": "python3"
    }
  },
  "nbformat": 4,
  "nbformat_minor": 5
}